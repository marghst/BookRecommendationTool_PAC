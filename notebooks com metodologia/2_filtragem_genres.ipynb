{
 "cells": [
  {
   "cell_type": "code",
   "execution_count": 1,
   "metadata": {},
   "outputs": [],
   "source": [
    "import pandas as pd\n",
    "import os"
   ]
  },
  {
   "cell_type": "code",
   "execution_count": 2,
   "metadata": {},
   "outputs": [],
   "source": [
    "#definir diretório\n",
    "os.chdir(f'C:\\PAC')"
   ]
  },
  {
   "cell_type": "code",
   "execution_count": 3,
   "metadata": {},
   "outputs": [],
   "source": [
    "#carregar dataset\n",
    "books_data = pd.read_csv('sample_booksdata.csv')"
   ]
  },
  {
   "cell_type": "code",
   "execution_count": 4,
   "metadata": {},
   "outputs": [
    {
     "name": "stdout",
     "output_type": "stream",
     "text": [
      "<class 'pandas.core.frame.DataFrame'>\n",
      "RangeIndex: 66476 entries, 0 to 66475\n",
      "Data columns (total 6 columns):\n",
      " #   Column       Non-Null Count  Dtype \n",
      "---  ------       --------------  ----- \n",
      " 0   Title        66468 non-null  object\n",
      " 1   description  66450 non-null  object\n",
      " 2   authors      66476 non-null  object\n",
      " 3   image        64238 non-null  object\n",
      " 4   categories   66476 non-null  object\n",
      " 5   title_raw    66476 non-null  object\n",
      "dtypes: object(6)\n",
      "memory usage: 3.0+ MB\n"
     ]
    }
   ],
   "source": [
    "books_data.info()"
   ]
  },
  {
   "cell_type": "code",
   "execution_count": 5,
   "metadata": {},
   "outputs": [
    {
     "name": "stdout",
     "output_type": "stream",
     "text": [
      "categories\n",
      "fiction                    11210\n",
      "history                     4408\n",
      "religion                    4338\n",
      "juvenile fiction            3218\n",
      "biography autobiography     3024\n",
      "                           ...  \n",
      "veterinary medicine            1\n",
      "vampires                       1\n",
      "unicorns                       1\n",
      "women millionaires             1\n",
      "women authors english          1\n",
      "Name: count, Length: 1821, dtype: int64\n"
     ]
    }
   ],
   "source": [
    "category_counts = books_data['categories'].value_counts()\n",
    "print(category_counts)"
   ]
  },
  {
   "cell_type": "code",
   "execution_count": 6,
   "metadata": {},
   "outputs": [
    {
     "name": "stdout",
     "output_type": "stream",
     "text": [
      "categories\n",
      "fiction                    11210\n",
      "history                     4408\n",
      "religion                    4338\n",
      "juvenile fiction            3218\n",
      "biography autobiography     3024\n",
      "                           ...  \n",
      "birds                         16\n",
      "france                        16\n",
      "business                      15\n",
      "authors english               15\n",
      "childrens literature          15\n",
      "Name: count, Length: 100, dtype: int64\n"
     ]
    }
   ],
   "source": [
    "top_100_categories = category_counts.head(100)\n",
    "print(top_100_categories)"
   ]
  },
  {
   "cell_type": "code",
   "execution_count": 7,
   "metadata": {},
   "outputs": [],
   "source": [
    "top_100_categories.to_csv('top_100_categories.csv')"
   ]
  },
  {
   "cell_type": "code",
   "execution_count": 8,
   "metadata": {},
   "outputs": [],
   "source": [
    "top_100_categories_df = top_100_categories.reset_index()\n",
    "filtered_books_data = books_data[books_data['categories'].isin(top_100_categories_df['categories'])]"
   ]
  },
  {
   "cell_type": "code",
   "execution_count": 9,
   "metadata": {},
   "outputs": [
    {
     "name": "stdout",
     "output_type": "stream",
     "text": [
      "<class 'pandas.core.frame.DataFrame'>\n",
      "Index: 62613 entries, 11 to 66474\n",
      "Data columns (total 6 columns):\n",
      " #   Column       Non-Null Count  Dtype \n",
      "---  ------       --------------  ----- \n",
      " 0   Title        62605 non-null  object\n",
      " 1   description  62587 non-null  object\n",
      " 2   authors      62613 non-null  object\n",
      " 3   image        61218 non-null  object\n",
      " 4   categories   62613 non-null  object\n",
      " 5   title_raw    62613 non-null  object\n",
      "dtypes: object(6)\n",
      "memory usage: 3.3+ MB\n"
     ]
    }
   ],
   "source": [
    "filtered_books_data.info()"
   ]
  },
  {
   "cell_type": "code",
   "execution_count": 10,
   "metadata": {},
   "outputs": [],
   "source": [
    "# Importar ficheiro com Thesaurus relacionando categorias e gêneros\n",
    "thesaurus_genres = pd.read_csv('thesaurus_genres.csv', sep=';')"
   ]
  },
  {
   "cell_type": "code",
   "execution_count": 11,
   "metadata": {},
   "outputs": [
    {
     "name": "stdout",
     "output_type": "stream",
     "text": [
      "<class 'pandas.core.frame.DataFrame'>\n",
      "RangeIndex: 100 entries, 0 to 99\n",
      "Data columns (total 2 columns):\n",
      " #   Column      Non-Null Count  Dtype \n",
      "---  ------      --------------  ----- \n",
      " 0   categories  100 non-null    object\n",
      " 1   count       100 non-null    object\n",
      "dtypes: object(2)\n",
      "memory usage: 1.7+ KB\n"
     ]
    }
   ],
   "source": [
    "thesaurus_genres.info()"
   ]
  },
  {
   "cell_type": "code",
   "execution_count": 12,
   "metadata": {},
   "outputs": [],
   "source": [
    "# Atribuir genre a cada um dos livros, com base nas categorias\n",
    "books_with_genres = filtered_books_data.merge(thesaurus_genres, on='categories', how='left')\n",
    "books_with_genres['genres'] = books_with_genres['count']\n"
   ]
  },
  {
   "cell_type": "code",
   "execution_count": 13,
   "metadata": {},
   "outputs": [
    {
     "name": "stdout",
     "output_type": "stream",
     "text": [
      "<class 'pandas.core.frame.DataFrame'>\n",
      "RangeIndex: 62613 entries, 0 to 62612\n",
      "Data columns (total 8 columns):\n",
      " #   Column       Non-Null Count  Dtype \n",
      "---  ------       --------------  ----- \n",
      " 0   Title        62605 non-null  object\n",
      " 1   description  62587 non-null  object\n",
      " 2   authors      62613 non-null  object\n",
      " 3   image        61218 non-null  object\n",
      " 4   categories   62613 non-null  object\n",
      " 5   title_raw    62613 non-null  object\n",
      " 6   count        62613 non-null  object\n",
      " 7   genres       62613 non-null  object\n",
      "dtypes: object(8)\n",
      "memory usage: 3.8+ MB\n",
      "None\n"
     ]
    }
   ],
   "source": [
    "print(books_with_genres.info())"
   ]
  },
  {
   "cell_type": "code",
   "execution_count": 28,
   "metadata": {},
   "outputs": [
    {
     "data": {
      "text/plain": [
       "array(['Children and Education', 'Hobbies and Leisure',\n",
       "       'Arts and Culture', 'Non-Fiction', 'Fiction',\n",
       "       'History and Society', 'Literature and Poetry',\n",
       "       'Lifestyle and Relationships', 'Comics and Graphic Novels',\n",
       "       'Science Fiction and Fantasy'], dtype=object)"
      ]
     },
     "execution_count": 28,
     "metadata": {},
     "output_type": "execute_result"
    }
   ],
   "source": [
    "books_with_genres['genres'].unique()"
   ]
  },
  {
   "cell_type": "code",
   "execution_count": 14,
   "metadata": {},
   "outputs": [
    {
     "data": {
      "text/html": [
       "<div>\n",
       "<style scoped>\n",
       "    .dataframe tbody tr th:only-of-type {\n",
       "        vertical-align: middle;\n",
       "    }\n",
       "\n",
       "    .dataframe tbody tr th {\n",
       "        vertical-align: top;\n",
       "    }\n",
       "\n",
       "    .dataframe thead th {\n",
       "        text-align: right;\n",
       "    }\n",
       "</style>\n",
       "<table border=\"1\" class=\"dataframe\">\n",
       "  <thead>\n",
       "    <tr style=\"text-align: right;\">\n",
       "      <th></th>\n",
       "      <th>Title</th>\n",
       "      <th>description</th>\n",
       "      <th>authors</th>\n",
       "      <th>image</th>\n",
       "      <th>categories</th>\n",
       "      <th>title_raw</th>\n",
       "      <th>count</th>\n",
       "      <th>genres</th>\n",
       "    </tr>\n",
       "  </thead>\n",
       "  <tbody>\n",
       "    <tr>\n",
       "      <th>0</th>\n",
       "      <td>the red witch</td>\n",
       "      <td>romance dutch east indies takes place</td>\n",
       "      <td>['Garland Roark']</td>\n",
       "      <td>httpbooksgooglecombookscontentidahtvqeacaajpri...</td>\n",
       "      <td>childrens literature</td>\n",
       "      <td>The Red Witch</td>\n",
       "      <td>Children and Education</td>\n",
       "      <td>Children and Education</td>\n",
       "    </tr>\n",
       "    <tr>\n",
       "      <th>1</th>\n",
       "      <td>childrens book illustration design ii</td>\n",
       "      <td>using stepbystep sketches instructions book gu...</td>\n",
       "      <td>['Martin Salisbury']</td>\n",
       "      <td>httpbooksgooglecombookscontentidyxnbeaaaqbajpr...</td>\n",
       "      <td>childrens literature</td>\n",
       "      <td>Children's Book Illustration &amp; Design II</td>\n",
       "      <td>Children and Education</td>\n",
       "      <td>Children and Education</td>\n",
       "    </tr>\n",
       "    <tr>\n",
       "      <th>2</th>\n",
       "      <td>elsie dinsmore collection</td>\n",
       "      <td>pious young girl difficulty establishing relat...</td>\n",
       "      <td>['Martha Finley']</td>\n",
       "      <td>httpbooksgooglecombookscontentiducfaqaaiaajpri...</td>\n",
       "      <td>childrens literature</td>\n",
       "      <td>Elsie Dinsmore Collection</td>\n",
       "      <td>Children and Education</td>\n",
       "      <td>Children and Education</td>\n",
       "    </tr>\n",
       "    <tr>\n",
       "      <th>3</th>\n",
       "      <td>parade of stories child horizons</td>\n",
       "      <td>selection stories folk fairy tales poems autho...</td>\n",
       "      <td>['Esther M. Bjoland', 'Anne Neigoff']</td>\n",
       "      <td>httpbooksgooglecombookscontentidwpcyhzbtocprin...</td>\n",
       "      <td>childrens literature</td>\n",
       "      <td>Parade of Stories (Child Horizons)</td>\n",
       "      <td>Children and Education</td>\n",
       "      <td>Children and Education</td>\n",
       "    </tr>\n",
       "    <tr>\n",
       "      <th>4</th>\n",
       "      <td>rommel drives on deep into egypt</td>\n",
       "      <td>rommel drives deep egypt richard brautigans ei...</td>\n",
       "      <td>['Richard Brautigan']</td>\n",
       "      <td>httpbooksgooglecombookscontentidkaaaaamaajprin...</td>\n",
       "      <td>childrens literature</td>\n",
       "      <td>Rommel Drives on Deep into Egypt</td>\n",
       "      <td>Children and Education</td>\n",
       "      <td>Children and Education</td>\n",
       "    </tr>\n",
       "  </tbody>\n",
       "</table>\n",
       "</div>"
      ],
      "text/plain": [
       "                                   Title  \\\n",
       "0                          the red witch   \n",
       "1  childrens book illustration design ii   \n",
       "2              elsie dinsmore collection   \n",
       "3       parade of stories child horizons   \n",
       "4       rommel drives on deep into egypt   \n",
       "\n",
       "                                         description  \\\n",
       "0              romance dutch east indies takes place   \n",
       "1  using stepbystep sketches instructions book gu...   \n",
       "2  pious young girl difficulty establishing relat...   \n",
       "3  selection stories folk fairy tales poems autho...   \n",
       "4  rommel drives deep egypt richard brautigans ei...   \n",
       "\n",
       "                                 authors  \\\n",
       "0                      ['Garland Roark']   \n",
       "1                   ['Martin Salisbury']   \n",
       "2                      ['Martha Finley']   \n",
       "3  ['Esther M. Bjoland', 'Anne Neigoff']   \n",
       "4                  ['Richard Brautigan']   \n",
       "\n",
       "                                               image            categories  \\\n",
       "0  httpbooksgooglecombookscontentidahtvqeacaajpri...  childrens literature   \n",
       "1  httpbooksgooglecombookscontentidyxnbeaaaqbajpr...  childrens literature   \n",
       "2  httpbooksgooglecombookscontentiducfaqaaiaajpri...  childrens literature   \n",
       "3  httpbooksgooglecombookscontentidwpcyhzbtocprin...  childrens literature   \n",
       "4  httpbooksgooglecombookscontentidkaaaaamaajprin...  childrens literature   \n",
       "\n",
       "                                  title_raw                   count  \\\n",
       "0                             The Red Witch  Children and Education   \n",
       "1  Children's Book Illustration & Design II  Children and Education   \n",
       "2                 Elsie Dinsmore Collection  Children and Education   \n",
       "3        Parade of Stories (Child Horizons)  Children and Education   \n",
       "4          Rommel Drives on Deep into Egypt  Children and Education   \n",
       "\n",
       "                   genres  \n",
       "0  Children and Education  \n",
       "1  Children and Education  \n",
       "2  Children and Education  \n",
       "3  Children and Education  \n",
       "4  Children and Education  "
      ]
     },
     "execution_count": 14,
     "metadata": {},
     "output_type": "execute_result"
    }
   ],
   "source": [
    "# Verificar ficheiro resultante\n",
    "books_with_genres.head(5)"
   ]
  },
  {
   "cell_type": "code",
   "execution_count": 15,
   "metadata": {},
   "outputs": [],
   "source": [
    "# Dropar colunas irrelevantes\n",
    "books_with_genres.drop(columns=['count'], inplace=True)"
   ]
  },
  {
   "cell_type": "code",
   "execution_count": 16,
   "metadata": {},
   "outputs": [],
   "source": [
    "# Salvar DF para um CSV\n",
    "books_with_genres.to_csv('books_with_genres.csv', index=False)"
   ]
  }
 ],
 "metadata": {
  "kernelspec": {
   "display_name": "PACproj",
   "language": "python",
   "name": "python3"
  },
  "language_info": {
   "codemirror_mode": {
    "name": "ipython",
    "version": 3
   },
   "file_extension": ".py",
   "mimetype": "text/x-python",
   "name": "python",
   "nbconvert_exporter": "python",
   "pygments_lexer": "ipython3",
   "version": "3.10.16"
  }
 },
 "nbformat": 4,
 "nbformat_minor": 2
}
