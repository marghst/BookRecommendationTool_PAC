{
 "cells": [
  {
   "cell_type": "code",
   "execution_count": 93,
   "metadata": {},
   "outputs": [],
   "source": [
    "import kagglehub\n",
    "import os\n",
    "import pandas as pd\n",
    "import requests\n",
    "import re\n",
    "import nltk\n",
    "import spacy \n"
   ]
  },
  {
   "cell_type": "code",
   "execution_count": 94,
   "metadata": {},
   "outputs": [
    {
     "name": "stdout",
     "output_type": "stream",
     "text": [
      "Warning: Looks like you're using an outdated `kagglehub` version, please consider updating (latest version: 0.3.4)\n",
      "Path to dataset files: C:\\Users\\Margarida\\.cache\\kagglehub\\datasets\\mohamedbakhet\\amazon-books-reviews\\versions\\1\n",
      "Ficheiros disponíveis: ['books_data.csv', 'Books_rating.csv']\n"
     ]
    }
   ],
   "source": [
    "# Download dataset latest version\n",
    "path = kagglehub.dataset_download(\"mohamedbakhet/amazon-books-reviews\")\n",
    "\n",
    "print(\"Path to dataset files:\", path)\n",
    "\n",
    "# Listar os ficheiros no diretório descarregado\n",
    "files = os.listdir(path)\n",
    "print(\"Ficheiros disponíveis:\", files)\n"
   ]
  },
  {
   "cell_type": "code",
   "execution_count": 95,
   "metadata": {},
   "outputs": [
    {
     "name": "stdout",
     "output_type": "stream",
     "text": [
      "                                               Title  \\\n",
      "0                     Its Only Art If Its Well Hung!   \n",
      "1                           Dr. Seuss: American Icon   \n",
      "2              Wonderful Worship in Smaller Churches   \n",
      "3                      Whispers of the Wicked Saints   \n",
      "4  Nation Dance: Religion, Identity and Cultural ...   \n",
      "\n",
      "                                         description              authors  \\\n",
      "0                                                NaN     ['Julie Strain']   \n",
      "1  Philip Nel takes a fascinating look into the k...       ['Philip Nel']   \n",
      "2  This resource includes twelve principles in un...     ['David R. Ray']   \n",
      "3  Julia Thomas finds her life spinning out of co...  ['Veronica Haddon']   \n",
      "4                                                NaN      ['Edward Long']   \n",
      "\n",
      "                                               image  \\\n",
      "0  http://books.google.com/books/content?id=DykPA...   \n",
      "1  http://books.google.com/books/content?id=IjvHQ...   \n",
      "2  http://books.google.com/books/content?id=2tsDA...   \n",
      "3  http://books.google.com/books/content?id=aRSIg...   \n",
      "4                                                NaN   \n",
      "\n",
      "                                         previewLink  publisher publishedDate  \\\n",
      "0  http://books.google.nl/books?id=DykPAAAACAAJ&d...        NaN          1996   \n",
      "1  http://books.google.nl/books?id=IjvHQsCn_pgC&p...  A&C Black    2005-01-01   \n",
      "2  http://books.google.nl/books?id=2tsDAAAACAAJ&d...        NaN          2000   \n",
      "3  http://books.google.nl/books?id=aRSIgJlq6JwC&d...  iUniverse       2005-02   \n",
      "4  http://books.google.nl/books?id=399SPgAACAAJ&d...        NaN    2003-03-01   \n",
      "\n",
      "                                            infoLink  \\\n",
      "0  http://books.google.nl/books?id=DykPAAAACAAJ&d...   \n",
      "1  http://books.google.nl/books?id=IjvHQsCn_pgC&d...   \n",
      "2  http://books.google.nl/books?id=2tsDAAAACAAJ&d...   \n",
      "3  http://books.google.nl/books?id=aRSIgJlq6JwC&d...   \n",
      "4  http://books.google.nl/books?id=399SPgAACAAJ&d...   \n",
      "\n",
      "                      categories  ratingsCount  \n",
      "0    ['Comics & Graphic Novels']           NaN  \n",
      "1  ['Biography & Autobiography']           NaN  \n",
      "2                   ['Religion']           NaN  \n",
      "3                    ['Fiction']           NaN  \n",
      "4                            NaN           NaN  \n",
      "           Id                           Title  Price         User_id  \\\n",
      "0  1882931173  Its Only Art If Its Well Hung!    NaN   AVCGYZL8FQQTD   \n",
      "1  0826414346        Dr. Seuss: American Icon    NaN  A30TK6U7DNS82R   \n",
      "2  0826414346        Dr. Seuss: American Icon    NaN  A3UH4UZ4RSVO82   \n",
      "3  0826414346        Dr. Seuss: American Icon    NaN  A2MVUWT453QH61   \n",
      "4  0826414346        Dr. Seuss: American Icon    NaN  A22X4XUPKF66MR   \n",
      "\n",
      "                          profileName review/helpfulness  review/score  \\\n",
      "0               Jim of Oz \"jim-of-oz\"                7/7           4.0   \n",
      "1                       Kevin Killian              10/10           5.0   \n",
      "2                        John Granger              10/11           5.0   \n",
      "3  Roy E. Perry \"amateur philosopher\"                7/7           4.0   \n",
      "4     D. H. Richards \"ninthwavestore\"                3/3           4.0   \n",
      "\n",
      "   review/time                                   review/summary  \\\n",
      "0    940636800           Nice collection of Julie Strain images   \n",
      "1   1095724800                                Really Enjoyed It   \n",
      "2   1078790400  Essential for every personal and Public Library   \n",
      "3   1090713600  Phlip Nel gives silly Seuss a serious treatment   \n",
      "4   1107993600                           Good academic overview   \n",
      "\n",
      "                                         review/text  \n",
      "0  This is only for Julie Strain fans. It's a col...  \n",
      "1  I don't care much for Dr. Seuss but after read...  \n",
      "2  If people become the books they read and if \"t...  \n",
      "3  Theodore Seuss Geisel (1904-1991), aka &quot;D...  \n",
      "4  Philip Nel - Dr. Seuss: American IconThis is b...  \n"
     ]
    }
   ],
   "source": [
    "# Caminhos completos para os ficheiros CSV\n",
    "file1 = os.path.join(path, \"books_data.csv\") \n",
    "file2 = os.path.join(path, \"Books_rating.csv\")\n",
    "\n",
    "# Carregar os CSVs em DataFrames\n",
    "books_data = pd.read_csv(file1)\n",
    "books_rating = pd.read_csv(file2)\n",
    "\n",
    "# Verificar os primeiros registos\n",
    "print(books_data.head())\n",
    "print(books_rating.head())"
   ]
  },
  {
   "cell_type": "code",
   "execution_count": 96,
   "metadata": {},
   "outputs": [
    {
     "name": "stdout",
     "output_type": "stream",
     "text": [
      "<class 'pandas.core.frame.DataFrame'>\n",
      "RangeIndex: 3000000 entries, 0 to 2999999\n",
      "Data columns (total 10 columns):\n",
      " #   Column              Dtype  \n",
      "---  ------              -----  \n",
      " 0   Id                  object \n",
      " 1   Title               object \n",
      " 2   Price               float64\n",
      " 3   User_id             object \n",
      " 4   profileName         object \n",
      " 5   review/helpfulness  object \n",
      " 6   review/score        float64\n",
      " 7   review/time         int64  \n",
      " 8   review/summary      object \n",
      " 9   review/text         object \n",
      "dtypes: float64(2), int64(1), object(7)\n",
      "memory usage: 228.9+ MB\n"
     ]
    }
   ],
   "source": [
    "books_rating.info()"
   ]
  },
  {
   "cell_type": "code",
   "execution_count": 97,
   "metadata": {},
   "outputs": [
    {
     "name": "stdout",
     "output_type": "stream",
     "text": [
      "<class 'pandas.core.frame.DataFrame'>\n",
      "RangeIndex: 212404 entries, 0 to 212403\n",
      "Data columns (total 10 columns):\n",
      " #   Column         Non-Null Count   Dtype  \n",
      "---  ------         --------------   -----  \n",
      " 0   Title          212403 non-null  object \n",
      " 1   description    143962 non-null  object \n",
      " 2   authors        180991 non-null  object \n",
      " 3   image          160329 non-null  object \n",
      " 4   previewLink    188568 non-null  object \n",
      " 5   publisher      136518 non-null  object \n",
      " 6   publishedDate  187099 non-null  object \n",
      " 7   infoLink       188568 non-null  object \n",
      " 8   categories     171205 non-null  object \n",
      " 9   ratingsCount   49752 non-null   float64\n",
      "dtypes: float64(1), object(9)\n",
      "memory usage: 16.2+ MB\n"
     ]
    }
   ],
   "source": [
    "books_data.info()"
   ]
  },
  {
   "cell_type": "code",
   "execution_count": 98,
   "metadata": {},
   "outputs": [
    {
     "name": "stdout",
     "output_type": "stream",
     "text": [
      "Title                 1\n",
      "description       68442\n",
      "authors           31413\n",
      "image             52075\n",
      "previewLink       23836\n",
      "publisher         75886\n",
      "publishedDate     25305\n",
      "infoLink          23836\n",
      "categories        41199\n",
      "ratingsCount     162652\n",
      "dtype: int64\n"
     ]
    }
   ],
   "source": [
    "NaN_books_data = books_data.isnull().sum()\n",
    "print(NaN_books_data)"
   ]
  },
  {
   "cell_type": "code",
   "execution_count": 99,
   "metadata": {},
   "outputs": [],
   "source": [
    "books_data_semNaN = books_data.dropna(subset=['Title', 'authors', 'categories', 'description'])"
   ]
  },
  {
   "cell_type": "code",
   "execution_count": 100,
   "metadata": {},
   "outputs": [
    {
     "name": "stdout",
     "output_type": "stream",
     "text": [
      "<class 'pandas.core.frame.DataFrame'>\n",
      "Index: 136138 entries, 1 to 212402\n",
      "Data columns (total 10 columns):\n",
      " #   Column         Non-Null Count   Dtype  \n",
      "---  ------         --------------   -----  \n",
      " 0   Title          136138 non-null  object \n",
      " 1   description    136138 non-null  object \n",
      " 2   authors        136138 non-null  object \n",
      " 3   image          130818 non-null  object \n",
      " 4   previewLink    136138 non-null  object \n",
      " 5   publisher      121139 non-null  object \n",
      " 6   publishedDate  135823 non-null  object \n",
      " 7   infoLink       136138 non-null  object \n",
      " 8   categories     136138 non-null  object \n",
      " 9   ratingsCount   43884 non-null   float64\n",
      "dtypes: float64(1), object(9)\n",
      "memory usage: 11.4+ MB\n"
     ]
    }
   ],
   "source": [
    "books_data_semNaN.info()"
   ]
  },
  {
   "cell_type": "code",
   "execution_count": 101,
   "metadata": {},
   "outputs": [
    {
     "name": "stderr",
     "output_type": "stream",
     "text": [
      "C:\\Users\\Margarida\\AppData\\Local\\Temp\\ipykernel_17608\\874535685.py:1: SettingWithCopyWarning: \n",
      "A value is trying to be set on a copy of a slice from a DataFrame\n",
      "\n",
      "See the caveats in the documentation: https://pandas.pydata.org/pandas-docs/stable/user_guide/indexing.html#returning-a-view-versus-a-copy\n",
      "  books_data_semNaN.drop(columns=['previewLink', 'publisher', 'publishedDate', 'infoLink'], inplace=True)\n"
     ]
    }
   ],
   "source": [
    "books_data_semNaN.drop(columns=['previewLink', 'publisher', 'publishedDate', 'infoLink'], inplace=True)"
   ]
  },
  {
   "cell_type": "code",
   "execution_count": 102,
   "metadata": {},
   "outputs": [
    {
     "name": "stdout",
     "output_type": "stream",
     "text": [
      "<class 'pandas.core.frame.DataFrame'>\n",
      "Index: 136138 entries, 1 to 212402\n",
      "Data columns (total 6 columns):\n",
      " #   Column        Non-Null Count   Dtype  \n",
      "---  ------        --------------   -----  \n",
      " 0   Title         136138 non-null  object \n",
      " 1   description   136138 non-null  object \n",
      " 2   authors       136138 non-null  object \n",
      " 3   image         130818 non-null  object \n",
      " 4   categories    136138 non-null  object \n",
      " 5   ratingsCount  43884 non-null   float64\n",
      "dtypes: float64(1), object(5)\n",
      "memory usage: 7.3+ MB\n"
     ]
    }
   ],
   "source": [
    "books_data_semNaN.info()"
   ]
  },
  {
   "cell_type": "markdown",
   "metadata": {},
   "source": [
    "# redução da amostra, porque não estavamos a conseguir executar o código"
   ]
  },
  {
   "cell_type": "code",
   "execution_count": 103,
   "metadata": {},
   "outputs": [
    {
     "name": "stderr",
     "output_type": "stream",
     "text": [
      "C:\\Users\\Margarida\\AppData\\Local\\Temp\\ipykernel_17608\\2162787207.py:2: DeprecationWarning: DataFrameGroupBy.apply operated on the grouping columns. This behavior is deprecated, and in a future version of pandas the grouping columns will be excluded from the operation. Either pass `include_groups=False` to exclude the groupings or explicitly select the grouping columns after groupby to silence this warning.\n",
      "  sample_booksdata = books_data_semNaN.groupby('categories', group_keys=False).apply(lambda x: x.sample(frac=0.5, random_state=42))\n"
     ]
    },
    {
     "name": "stdout",
     "output_type": "stream",
     "text": [
      "                                                    Title  \\\n",
      "13005                             What's Wrong With Daddy   \n",
      "19051   The 36-Hour Day: A Family Guide to Caring for ...   \n",
      "147229  Twilight Travels with Mother: How I Found Stre...   \n",
      "203597                                          Pure Pulp   \n",
      "176575  The Man Who Lost America: a Biography 0f Gentl...   \n",
      "...                                                   ...   \n",
      "145828           Crazy for You (Sweet Dreams Series #145)   \n",
      "186235                        Jake Finds Out (Making Out)   \n",
      "51608                                     Born of the Sun   \n",
      "211224      The Whispering Knights: Complete & Unabridged   \n",
      "169094  The Zen teaching of Huang Po on the transmissi...   \n",
      "\n",
      "                                              description  \\\n",
      "13005   \"Jennifer Burke sat between her mother and fat...   \n",
      "19051   Provides practical and legal advice on caring ...   \n",
      "147229  For any person impacted by Alzheimer's disease...   \n",
      "203597  A survey of works by leading contemporary arti...   \n",
      "176575  \"General John Burgoyne (24 February 1722? 4 Au...   \n",
      "...                                                   ...   \n",
      "145828  Assigned to a new school where she knows no on...   \n",
      "186235  A brand new look for the hugely successful Mak...   \n",
      "51608   Paula is thrilled when her explorer father pul...   \n",
      "211224  Summary: Three children concoct a witch's brew...   \n",
      "169094  A complete translation of the Huang Po Chuʻan ...   \n",
      "\n",
      "                                      authors  \\\n",
      "13005                      ['Alida E. Young']   \n",
      "19051    ['Nancy L. Mace', 'Peter V. Rabins']   \n",
      "147229                      ['Mary Ann Mayo']   \n",
      "203597                     ['Bridget Donlon']   \n",
      "176575  ['Noel Bertram Gerson', 'Paul Lewis']   \n",
      "...                                       ...   \n",
      "145828                     ['Jahnna Beecham']   \n",
      "186235                ['Katherine Applegate']   \n",
      "51608                       ['Gillian Cross']   \n",
      "211224                    ['Penelope Lively']   \n",
      "169094          ['黄檗', 'Po Huang', 'Xiu Pei']   \n",
      "\n",
      "                                                    image  \\\n",
      "13005   http://books.google.com/books/content?id=HWyFZ...   \n",
      "19051                                                 NaN   \n",
      "147229                                                NaN   \n",
      "203597  http://books.google.com/books/content?id=RJ-KD...   \n",
      "176575  http://books.google.com/books/content?id=P-dBA...   \n",
      "...                                                   ...   \n",
      "145828                                                NaN   \n",
      "186235  http://books.google.com/books/content?id=25YtH...   \n",
      "51608   http://books.google.com/books/content?id=Nj4T7...   \n",
      "211224  http://books.google.com/books/content?id=mij0g...   \n",
      "169094  http://books.google.com/books/content?id=4V1RA...   \n",
      "\n",
      "                           categories  ratingsCount  \n",
      "13005         [\"Alzheimer's disease\"]           NaN  \n",
      "19051         [\"Alzheimer's disease\"]          23.0  \n",
      "147229        [\"Alzheimer's disease\"]           NaN  \n",
      "203597             [\"Artists' books\"]           NaN  \n",
      "176575  [\"Burgoyne's Invasion, 1777\"]           NaN  \n",
      "...                               ...           ...  \n",
      "145828        ['Young adult fiction']           NaN  \n",
      "186235        ['Young adult fiction']           NaN  \n",
      "51608         ['Young adult fiction']           NaN  \n",
      "211224        ['Young adult fiction']           NaN  \n",
      "169094               ['Zen Buddhism']           1.0  \n",
      "\n",
      "[66476 rows x 6 columns]\n"
     ]
    }
   ],
   "source": [
    "# Realizar a amostragem estratificada manualmente\n",
    "sample_booksdata = books_data_semNaN.groupby('categories', group_keys=False).apply(lambda x: x.sample(frac=0.5, random_state=42))\n",
    "\n",
    "print(sample_booksdata)"
   ]
  },
  {
   "cell_type": "code",
   "execution_count": 104,
   "metadata": {},
   "outputs": [],
   "source": [
    "# redução da amostra das reviews, com base na sample dos livros\n",
    "sample_booksrating = books_rating[books_rating['Title'].isin(sample_booksdata['Title'])]"
   ]
  },
  {
   "cell_type": "code",
   "execution_count": 105,
   "metadata": {},
   "outputs": [
    {
     "name": "stdout",
     "output_type": "stream",
     "text": [
      "<class 'pandas.core.frame.DataFrame'>\n",
      "Index: 1086251 entries, 1 to 2999999\n",
      "Data columns (total 10 columns):\n",
      " #   Column              Non-Null Count    Dtype  \n",
      "---  ------              --------------    -----  \n",
      " 0   Id                  1086251 non-null  object \n",
      " 1   Title               1086251 non-null  object \n",
      " 2   Price               185495 non-null   float64\n",
      " 3   User_id             882886 non-null   object \n",
      " 4   profileName         882840 non-null   object \n",
      " 5   review/helpfulness  1086251 non-null  object \n",
      " 6   review/score        1086251 non-null  float64\n",
      " 7   review/time         1086251 non-null  int64  \n",
      " 8   review/summary      1086111 non-null  object \n",
      " 9   review/text         1086247 non-null  object \n",
      "dtypes: float64(2), int64(1), object(7)\n",
      "memory usage: 91.2+ MB\n"
     ]
    }
   ],
   "source": [
    "sample_booksrating.info()"
   ]
  },
  {
   "cell_type": "markdown",
   "metadata": {},
   "source": [
    "# pré-processamento da sample de book's data"
   ]
  },
  {
   "cell_type": "code",
   "execution_count": 106,
   "metadata": {},
   "outputs": [
    {
     "name": "stdout",
     "output_type": "stream",
     "text": [
      "<class 'pandas.core.frame.DataFrame'>\n",
      "Index: 66476 entries, 13005 to 169094\n",
      "Data columns (total 6 columns):\n",
      " #   Column        Non-Null Count  Dtype  \n",
      "---  ------        --------------  -----  \n",
      " 0   Title         66476 non-null  object \n",
      " 1   description   66476 non-null  object \n",
      " 2   authors       66476 non-null  object \n",
      " 3   image         64238 non-null  object \n",
      " 4   categories    66476 non-null  object \n",
      " 5   ratingsCount  21550 non-null  float64\n",
      "dtypes: float64(1), object(5)\n",
      "memory usage: 3.6+ MB\n"
     ]
    }
   ],
   "source": [
    "sample_booksdata.info()"
   ]
  },
  {
   "cell_type": "code",
   "execution_count": 107,
   "metadata": {},
   "outputs": [],
   "source": [
    "#lowercasing\n",
    "sample_booksdata = sample_booksdata.map(lambda s: s.lower() if type(s) == str else s)"
   ]
  },
  {
   "cell_type": "code",
   "execution_count": 108,
   "metadata": {},
   "outputs": [],
   "source": [
    "#ponctuation removal\n",
    "sample_booksdata = sample_booksdata.map(lambda x: re.sub(r'[^\\w\\s]', '', x) if isinstance(x, str) else x)  # Remove special characters\n",
    "sample_booksdata = sample_booksdata.map(lambda x: re.sub(r'\\d+', '', x) if isinstance(x, str) else x)  # Remove numbers\n",
    "sample_booksdata = sample_booksdata.map(lambda x: re.sub(r'º', '', x) if isinstance(x, str) else x)  # Remove the \"º\" character\n",
    "sample_booksdata = sample_booksdata.map(lambda x: ' '.join(x.split()) if isinstance(x, str) else x)  # Remove extra spaces"
   ]
  },
  {
   "cell_type": "code",
   "execution_count": 109,
   "metadata": {},
   "outputs": [
    {
     "name": "stderr",
     "output_type": "stream",
     "text": [
      "[nltk_data] Downloading package stopwords to\n",
      "[nltk_data]     C:\\Users\\Margarida\\AppData\\Roaming\\nltk_data...\n",
      "[nltk_data]   Package stopwords is already up-to-date!\n"
     ]
    },
    {
     "name": "stdout",
     "output_type": "stream",
     "text": [
      "                                                    Title  \\\n",
      "13005                              whats wrong with daddy   \n",
      "19051   the hour day a family guide to caring for pers...   \n",
      "147229  twilight travels with mother how i found stren...   \n",
      "203597                                          pure pulp   \n",
      "176575  the man who lost america a biography f gentlem...   \n",
      "...                                                   ...   \n",
      "145828                  crazy for you sweet dreams series   \n",
      "186235                          jake finds out making out   \n",
      "51608                                     born of the sun   \n",
      "211224         the whispering knights complete unabridged   \n",
      "169094  the zen teaching of huang po on the transmissi...   \n",
      "\n",
      "                                              description  \\\n",
      "13005   jennifer burke sat mother father doctors offic...   \n",
      "19051   provides practical legal advice caring longer ...   \n",
      "147229  person impacted alzheimers disease mayos work ...   \n",
      "203597  survey works leading contemporary artists made...   \n",
      "176575  general john burgoyne february august british ...   \n",
      "...                                                   ...   \n",
      "145828  assigned new school knows one best friend jill...   \n",
      "186235  brand new look hugely successful making series...   \n",
      "51608   paula thrilled explorer father pulls school cl...   \n",
      "211224  summary three children concoct witchs brew con...   \n",
      "169094  complete translation huang po chuʻan ie chʻuan...   \n",
      "\n",
      "                               authors  \\\n",
      "13005                    alida e young   \n",
      "19051      nancy l mace peter v rabins   \n",
      "147229                   mary ann mayo   \n",
      "203597                  bridget donlon   \n",
      "176575  noel bertram gerson paul lewis   \n",
      "...                                ...   \n",
      "145828                  jahnna beecham   \n",
      "186235             katherine applegate   \n",
      "51608                    gillian cross   \n",
      "211224                 penelope lively   \n",
      "169094             黄檗 po huang xiu pei   \n",
      "\n",
      "                                                    image  \\\n",
      "13005   httpbooksgooglecombookscontentidhwyfzspzakgcpr...   \n",
      "19051                                                 NaN   \n",
      "147229                                                NaN   \n",
      "203597  httpbooksgooglecombookscontentidrjkdaeacaajpri...   \n",
      "176575  httpbooksgooglecombookscontentidpdbaaaaiaajpri...   \n",
      "...                                                   ...   \n",
      "145828                                                NaN   \n",
      "186235  httpbooksgooglecombookscontentidythaaacaajprin...   \n",
      "51608   httpbooksgooglecombookscontentidnjtqjfgcprints...   \n",
      "211224  httpbooksgooglecombookscontentidmijgorwrmcprin...   \n",
      "169094  httpbooksgooglecombookscontentidvraaaayaajprin...   \n",
      "\n",
      "                 categories  ratingsCount  \n",
      "13005    alzheimers disease           NaN  \n",
      "19051    alzheimers disease          23.0  \n",
      "147229   alzheimers disease           NaN  \n",
      "203597        artists books           NaN  \n",
      "176575   burgoynes invasion           NaN  \n",
      "...                     ...           ...  \n",
      "145828  young adult fiction           NaN  \n",
      "186235  young adult fiction           NaN  \n",
      "51608   young adult fiction           NaN  \n",
      "211224  young adult fiction           NaN  \n",
      "169094         zen buddhism           1.0  \n",
      "\n",
      "[66476 rows x 6 columns]\n"
     ]
    }
   ],
   "source": [
    "# remove stopwords\n",
    "from nltk.corpus import stopwords\n",
    "\n",
    "nltk.download('stopwords')\n",
    "\n",
    "# Definir a lista de stopwords\n",
    "stop_words = set(stopwords.words('english'))\n",
    "\n",
    "# Função para remover stopwords\n",
    "def remove_stopwords(text):\n",
    "    words = text.split()\n",
    "    cleaned_text = ' '.join([word for word in words if word.lower() not in stop_words])\n",
    "    return cleaned_text\n",
    "\n",
    "# Converter os valores das colunas para string antes de aplicar a função\n",
    "sample_booksdata['description'] = sample_booksdata['description'].astype(str).apply(remove_stopwords)\n",
    "\n",
    "print(sample_booksdata)"
   ]
  },
  {
   "cell_type": "code",
   "execution_count": 110,
   "metadata": {},
   "outputs": [
    {
     "name": "stdout",
     "output_type": "stream",
     "text": [
      "                                                    Title  \\\n",
      "13005                              whats wrong with daddy   \n",
      "19051   the hour day a family guide to caring for pers...   \n",
      "147229  twilight travels with mother how i found stren...   \n",
      "203597                                          pure pulp   \n",
      "176575  the man who lost america a biography f gentlem...   \n",
      "...                                                   ...   \n",
      "145828                  crazy for you sweet dreams series   \n",
      "186235                          jake finds out making out   \n",
      "51608                                     born of the sun   \n",
      "211224         the whispering knights complete unabridged   \n",
      "169094  the zen teaching of huang po on the transmissi...   \n",
      "\n",
      "                                              description  \\\n",
      "13005   jennifer burke sat mother father doctors offic...   \n",
      "19051   provides practical legal advice caring longer ...   \n",
      "147229  person impacted alzheimers disease mayos work ...   \n",
      "203597  survey works leading contemporary artists made...   \n",
      "176575  general john burgoyne february august british ...   \n",
      "...                                                   ...   \n",
      "145828  assigned new school knows one best friend jill...   \n",
      "186235  brand new look hugely successful making series...   \n",
      "51608   paula thrilled explorer father pulls school cl...   \n",
      "211224  summary three children concoct witchs brew con...   \n",
      "169094  complete translation huang chuʻan chʻuan hsiu ...   \n",
      "\n",
      "                               authors  \\\n",
      "13005                    alida e young   \n",
      "19051      nancy l mace peter v rabins   \n",
      "147229                   mary ann mayo   \n",
      "203597                  bridget donlon   \n",
      "176575  noel bertram gerson paul lewis   \n",
      "...                                ...   \n",
      "145828                  jahnna beecham   \n",
      "186235             katherine applegate   \n",
      "51608                    gillian cross   \n",
      "211224                 penelope lively   \n",
      "169094             黄檗 po huang xiu pei   \n",
      "\n",
      "                                                    image  \\\n",
      "13005   httpbooksgooglecombookscontentidhwyfzspzakgcpr...   \n",
      "19051                                                 NaN   \n",
      "147229                                                NaN   \n",
      "203597  httpbooksgooglecombookscontentidrjkdaeacaajpri...   \n",
      "176575  httpbooksgooglecombookscontentidpdbaaaaiaajpri...   \n",
      "...                                                   ...   \n",
      "145828                                                NaN   \n",
      "186235  httpbooksgooglecombookscontentidythaaacaajprin...   \n",
      "51608   httpbooksgooglecombookscontentidnjtqjfgcprints...   \n",
      "211224  httpbooksgooglecombookscontentidmijgorwrmcprin...   \n",
      "169094  httpbooksgooglecombookscontentidvraaaayaajprin...   \n",
      "\n",
      "                 categories  ratingsCount  \n",
      "13005    alzheimers disease           NaN  \n",
      "19051    alzheimers disease          23.0  \n",
      "147229   alzheimers disease           NaN  \n",
      "203597        artists books           NaN  \n",
      "176575   burgoynes invasion           NaN  \n",
      "...                     ...           ...  \n",
      "145828  young adult fiction           NaN  \n",
      "186235  young adult fiction           NaN  \n",
      "51608   young adult fiction           NaN  \n",
      "211224  young adult fiction           NaN  \n",
      "169094         zen buddhism           1.0  \n",
      "\n",
      "[66476 rows x 6 columns]\n"
     ]
    }
   ],
   "source": [
    "# Remove words that are shorter than or equal to 2 characters\n",
    "# Função para remover palavras curtas\n",
    "def remove_short_words(text):\n",
    "    return ' '.join([word for word in text.split() if len(word) > 2])\n",
    "\n",
    "# Aplicar a função de remoção de palavras curtas à coluna\n",
    "sample_booksdata['description'] = sample_booksdata['description'].apply(remove_short_words)\n",
    "\n",
    "print(sample_booksdata)"
   ]
  },
  {
   "cell_type": "code",
   "execution_count": 126,
   "metadata": {},
   "outputs": [
    {
     "name": "stdout",
     "output_type": "stream",
     "text": [
      "13005                        ['Alida E. Young']\n",
      "19051      ['Nancy L. Mace', 'Peter V. Rabins']\n",
      "147229                        ['Mary Ann Mayo']\n",
      "203597                       ['Bridget Donlon']\n",
      "176575    ['Noel Bertram Gerson', 'Paul Lewis']\n",
      "                          ...                  \n",
      "145828                       ['Jahnna Beecham']\n",
      "186235                  ['Katherine Applegate']\n",
      "51608                         ['Gillian Cross']\n",
      "211224                      ['Penelope Lively']\n",
      "169094            ['黄檗', 'Po Huang', 'Xiu Pei']\n",
      "Name: authors, Length: 66476, dtype: object\n"
     ]
    }
   ],
   "source": [
    "#Devolver a coluna original de authors à sample_booksdata\n",
    "sample_booksdata['authors'] = books_data['authors']\n",
    "\n",
    "print(sample_booksdata['authors'])"
   ]
  },
  {
   "cell_type": "code",
   "execution_count": 135,
   "metadata": {},
   "outputs": [
    {
     "data": {
      "text/html": [
       "<div>\n",
       "<style scoped>\n",
       "    .dataframe tbody tr th:only-of-type {\n",
       "        vertical-align: middle;\n",
       "    }\n",
       "\n",
       "    .dataframe tbody tr th {\n",
       "        vertical-align: top;\n",
       "    }\n",
       "\n",
       "    .dataframe thead th {\n",
       "        text-align: right;\n",
       "    }\n",
       "</style>\n",
       "<table border=\"1\" class=\"dataframe\">\n",
       "  <thead>\n",
       "    <tr style=\"text-align: right;\">\n",
       "      <th></th>\n",
       "      <th>Title</th>\n",
       "      <th>description</th>\n",
       "      <th>authors</th>\n",
       "      <th>image</th>\n",
       "      <th>categories</th>\n",
       "      <th>title_raw</th>\n",
       "    </tr>\n",
       "  </thead>\n",
       "  <tbody>\n",
       "    <tr>\n",
       "      <th>13005</th>\n",
       "      <td>What's Wrong With Daddy</td>\n",
       "      <td>jennifer burke sat mother father doctors offic...</td>\n",
       "      <td>['Alida E. Young']</td>\n",
       "      <td>httpbooksgooglecombookscontentidhwyfzspzakgcpr...</td>\n",
       "      <td>alzheimers disease</td>\n",
       "      <td>What's Wrong With Daddy</td>\n",
       "    </tr>\n",
       "    <tr>\n",
       "      <th>19051</th>\n",
       "      <td>The 36-Hour Day: A Family Guide to Caring for ...</td>\n",
       "      <td>provides practical legal advice caring longer ...</td>\n",
       "      <td>['Nancy L. Mace', 'Peter V. Rabins']</td>\n",
       "      <td>NaN</td>\n",
       "      <td>alzheimers disease</td>\n",
       "      <td>The 36-Hour Day: A Family Guide to Caring for ...</td>\n",
       "    </tr>\n",
       "    <tr>\n",
       "      <th>147229</th>\n",
       "      <td>Twilight Travels with Mother: How I Found Stre...</td>\n",
       "      <td>person impacted alzheimers disease mayos work ...</td>\n",
       "      <td>['Mary Ann Mayo']</td>\n",
       "      <td>NaN</td>\n",
       "      <td>alzheimers disease</td>\n",
       "      <td>Twilight Travels with Mother: How I Found Stre...</td>\n",
       "    </tr>\n",
       "    <tr>\n",
       "      <th>203597</th>\n",
       "      <td>Pure Pulp</td>\n",
       "      <td>survey works leading contemporary artists made...</td>\n",
       "      <td>['Bridget Donlon']</td>\n",
       "      <td>httpbooksgooglecombookscontentidrjkdaeacaajpri...</td>\n",
       "      <td>artists books</td>\n",
       "      <td>Pure Pulp</td>\n",
       "    </tr>\n",
       "    <tr>\n",
       "      <th>176575</th>\n",
       "      <td>The Man Who Lost America: a Biography 0f Gentl...</td>\n",
       "      <td>general john burgoyne february august british ...</td>\n",
       "      <td>['Noel Bertram Gerson', 'Paul Lewis']</td>\n",
       "      <td>httpbooksgooglecombookscontentidpdbaaaaiaajpri...</td>\n",
       "      <td>burgoynes invasion</td>\n",
       "      <td>The Man Who Lost America: a Biography 0f Gentl...</td>\n",
       "    </tr>\n",
       "  </tbody>\n",
       "</table>\n",
       "</div>"
      ],
      "text/plain": [
       "                                                    Title  \\\n",
       "13005                             What's Wrong With Daddy   \n",
       "19051   The 36-Hour Day: A Family Guide to Caring for ...   \n",
       "147229  Twilight Travels with Mother: How I Found Stre...   \n",
       "203597                                          Pure Pulp   \n",
       "176575  The Man Who Lost America: a Biography 0f Gentl...   \n",
       "\n",
       "                                              description  \\\n",
       "13005   jennifer burke sat mother father doctors offic...   \n",
       "19051   provides practical legal advice caring longer ...   \n",
       "147229  person impacted alzheimers disease mayos work ...   \n",
       "203597  survey works leading contemporary artists made...   \n",
       "176575  general john burgoyne february august british ...   \n",
       "\n",
       "                                      authors  \\\n",
       "13005                      ['Alida E. Young']   \n",
       "19051    ['Nancy L. Mace', 'Peter V. Rabins']   \n",
       "147229                      ['Mary Ann Mayo']   \n",
       "203597                     ['Bridget Donlon']   \n",
       "176575  ['Noel Bertram Gerson', 'Paul Lewis']   \n",
       "\n",
       "                                                    image          categories  \\\n",
       "13005   httpbooksgooglecombookscontentidhwyfzspzakgcpr...  alzheimers disease   \n",
       "19051                                                 NaN  alzheimers disease   \n",
       "147229                                                NaN  alzheimers disease   \n",
       "203597  httpbooksgooglecombookscontentidrjkdaeacaajpri...       artists books   \n",
       "176575  httpbooksgooglecombookscontentidpdbaaaaiaajpri...  burgoynes invasion   \n",
       "\n",
       "                                                title_raw  \n",
       "13005                             What's Wrong With Daddy  \n",
       "19051   The 36-Hour Day: A Family Guide to Caring for ...  \n",
       "147229  Twilight Travels with Mother: How I Found Stre...  \n",
       "203597                                          Pure Pulp  \n",
       "176575  The Man Who Lost America: a Biography 0f Gentl...  "
      ]
     },
     "execution_count": 135,
     "metadata": {},
     "output_type": "execute_result"
    }
   ],
   "source": [
    "sample_booksdata.drop(columns=['ratingsCount'], inplace=True)\n",
    "sample_booksdata.head()"
   ]
  },
  {
   "cell_type": "code",
   "execution_count": 136,
   "metadata": {},
   "outputs": [
    {
     "name": "stdout",
     "output_type": "stream",
     "text": [
      "13005                               What's Wrong With Daddy\n",
      "19051     The 36-Hour Day: A Family Guide to Caring for ...\n",
      "147229    Twilight Travels with Mother: How I Found Stre...\n",
      "203597                                            Pure Pulp\n",
      "176575    The Man Who Lost America: a Biography 0f Gentl...\n",
      "                                ...                        \n",
      "145828             Crazy for You (Sweet Dreams Series #145)\n",
      "186235                          Jake Finds Out (Making Out)\n",
      "51608                                       Born of the Sun\n",
      "211224        The Whispering Knights: Complete & Unabridged\n",
      "169094    The Zen teaching of Huang Po on the transmissi...\n",
      "Name: title_raw, Length: 66476, dtype: object\n"
     ]
    }
   ],
   "source": [
    "#Devolver a coluna original de titulo à sample_booksdata\n",
    "sample_booksdata['title_raw'] = books_data['Title']\n",
    "\n",
    "print(sample_booksdata['title_raw'])"
   ]
  },
  {
   "cell_type": "markdown",
   "metadata": {},
   "source": [
    "# pré-processamento da sample de book's ratings"
   ]
  },
  {
   "cell_type": "code",
   "execution_count": 113,
   "metadata": {},
   "outputs": [
    {
     "name": "stdout",
     "output_type": "stream",
     "text": [
      "<class 'pandas.core.frame.DataFrame'>\n",
      "Index: 1086251 entries, 1 to 2999999\n",
      "Data columns (total 10 columns):\n",
      " #   Column              Non-Null Count    Dtype  \n",
      "---  ------              --------------    -----  \n",
      " 0   Id                  1086251 non-null  object \n",
      " 1   Title               1086251 non-null  object \n",
      " 2   Price               185495 non-null   float64\n",
      " 3   User_id             882886 non-null   object \n",
      " 4   profileName         882840 non-null   object \n",
      " 5   review/helpfulness  1086251 non-null  object \n",
      " 6   review/score        1086251 non-null  float64\n",
      " 7   review/time         1086251 non-null  int64  \n",
      " 8   review/summary      1086111 non-null  object \n",
      " 9   review/text         1086247 non-null  object \n",
      "dtypes: float64(2), int64(1), object(7)\n",
      "memory usage: 91.2+ MB\n"
     ]
    }
   ],
   "source": [
    "sample_booksrating.info()"
   ]
  },
  {
   "cell_type": "code",
   "execution_count": 114,
   "metadata": {},
   "outputs": [
    {
     "name": "stdout",
     "output_type": "stream",
     "text": [
      "Id                         0\n",
      "Title                      0\n",
      "Price                 900756\n",
      "User_id               203365\n",
      "profileName           203411\n",
      "review/helpfulness         0\n",
      "review/score               0\n",
      "review/time                0\n",
      "review/summary           140\n",
      "review/text                4\n",
      "dtype: int64\n"
     ]
    }
   ],
   "source": [
    "NaN_books_rating = sample_booksrating.isnull().sum()\n",
    "print(NaN_books_rating)"
   ]
  },
  {
   "cell_type": "code",
   "execution_count": 115,
   "metadata": {},
   "outputs": [],
   "source": [
    "# dropar as linhas com NaN\n",
    "sample_booksrating = sample_booksrating.dropna(subset=['review/summary', 'review/text'])"
   ]
  },
  {
   "cell_type": "code",
   "execution_count": 137,
   "metadata": {},
   "outputs": [],
   "source": [
    "#dropar colunas desnecessárias\n",
    "sample_booksrating.drop(columns=['Price', 'review/helpfulness'], inplace=True)"
   ]
  },
  {
   "cell_type": "code",
   "execution_count": 138,
   "metadata": {},
   "outputs": [
    {
     "name": "stdout",
     "output_type": "stream",
     "text": [
      "<class 'pandas.core.frame.DataFrame'>\n",
      "Index: 1086107 entries, 1 to 2999999\n",
      "Data columns (total 8 columns):\n",
      " #   Column          Non-Null Count    Dtype  \n",
      "---  ------          --------------    -----  \n",
      " 0   Id              1086107 non-null  object \n",
      " 1   Title           1086107 non-null  object \n",
      " 2   User_id         882748 non-null   object \n",
      " 3   profileName     882704 non-null   object \n",
      " 4   review/score    1086107 non-null  float64\n",
      " 5   review/time     1086107 non-null  int64  \n",
      " 6   review/summary  1086107 non-null  object \n",
      " 7   review/text     1086107 non-null  object \n",
      "dtypes: float64(1), int64(1), object(6)\n",
      "memory usage: 74.6+ MB\n"
     ]
    }
   ],
   "source": [
    "sample_booksrating.info()"
   ]
  },
  {
   "cell_type": "code",
   "execution_count": 117,
   "metadata": {},
   "outputs": [],
   "source": [
    "#lowercasing\n",
    "sample_booksrating = sample_booksrating.map(lambda s: s.lower() if type(s) == str else s)"
   ]
  },
  {
   "cell_type": "code",
   "execution_count": 118,
   "metadata": {},
   "outputs": [],
   "source": [
    "#ponctuation removal\n",
    "sample_booksrating = sample_booksrating.map(lambda x: re.sub(r'[^\\w\\s]', '', x) if isinstance(x, str) else x)  # Remove special characters\n",
    "sample_booksrating = sample_booksrating.map(lambda x: re.sub(r'\\d+', '', x) if isinstance(x, str) else x)  # Remove numbers\n",
    "sample_booksrating = sample_booksrating.map(lambda x: re.sub(r'º', '', x) if isinstance(x, str) else x)  # Remove the \"º\" character\n",
    "sample_booksrating = sample_booksrating.map(lambda x: ' '.join(x.split()) if isinstance(x, str) else x)  # Remove extra spaces"
   ]
  },
  {
   "cell_type": "code",
   "execution_count": 139,
   "metadata": {},
   "outputs": [
    {
     "name": "stderr",
     "output_type": "stream",
     "text": [
      "[nltk_data] Downloading package stopwords to\n",
      "[nltk_data]     C:\\Users\\Margarida\\AppData\\Roaming\\nltk_data...\n",
      "[nltk_data]   Package stopwords is already up-to-date!\n"
     ]
    },
    {
     "name": "stdout",
     "output_type": "stream",
     "text": [
      "              Id                   Title      User_id  \\\n",
      "1                 dr seuss american icon     atkudnsr   \n",
      "2                 dr seuss american icon    auhuzrsvo   \n",
      "3                 dr seuss american icon     amvuwtqh   \n",
      "4                 dr seuss american icon    axxupkfmr   \n",
      "5                 dr seuss american icon  afnonfudbuk   \n",
      "...          ...                     ...          ...   \n",
      "2999995  bnslvcu     the idea of history          NaN   \n",
      "2999996  bnslvcu     the idea of history   asmubaslly   \n",
      "2999997  bnslvcu     the idea of history  aaqmekzkkee   \n",
      "2999998  bnslvcu     the idea of history    asqgybksk   \n",
      "2999999  bnslvcu     the idea of history          NaN   \n",
      "\n",
      "                             profileName  review/score  review/time  \\\n",
      "1                          kevin killian           5.0   1095724800   \n",
      "2                           john granger           5.0   1078790400   \n",
      "3        roy e perry amateur philosopher           4.0   1090713600   \n",
      "4            d h richards ninthwavestore           4.0   1107993600   \n",
      "5                                 malvin           4.0   1127174400   \n",
      "...                                  ...           ...          ...   \n",
      "2999995                              NaN           4.0    937612800   \n",
      "2999996                          jafrank           4.0   1331683200   \n",
      "2999997            l l poulos muslim mom           4.0   1180224000   \n",
      "2999998       julia a klein knitting rat           5.0   1163030400   \n",
      "2999999                              NaN           1.0    905385600   \n",
      "\n",
      "                                        review/summary  \\\n",
      "1                                       really enjoyed   \n",
      "2              essential every personal public library   \n",
      "3        phlip nel gives silly seuss serious treatment   \n",
      "4                               good academic overview   \n",
      "5               one americas greatest creative talents   \n",
      "...                                                ...   \n",
      "2999995                                      difficult   \n",
      "2999996             quite good ahead time occasionally   \n",
      "2999997        easier reads well versed historiography   \n",
      "2999998               yes cheaper university bookstore   \n",
      "2999999      collingwoods ideas sink quagmire verbiage   \n",
      "\n",
      "                                               review/text  \n",
      "1        dont care much seuss reading philip nels book ...  \n",
      "2        people become books read child father man seus...  \n",
      "3        theodore seuss geisel aka quotdr seussquot one...  \n",
      "4        philip nel seuss american iconthis basically a...  \n",
      "5        seuss american icon philip nel thoughtful deco...  \n",
      "...                                                    ...  \n",
      "2999995  extremely difficult book digest casual readers...  \n",
      "2999996  pretty interesting collingwood seems like firs...  \n",
      "2999997  good book esoteric history carr easier selecti...  \n",
      "2999998  daughter freshman indiana university emailed l...  \n",
      "2999999  guy good ideas reader beware transciption seve...  \n",
      "\n",
      "[1086107 rows x 8 columns]\n"
     ]
    }
   ],
   "source": [
    "# remove stopwords\n",
    "from nltk.corpus import stopwords\n",
    "\n",
    "nltk.download('stopwords')\n",
    "\n",
    "# Definir a lista de stopwords\n",
    "stop_words = set(stopwords.words('english'))\n",
    "\n",
    "# Função para remover stopwords\n",
    "def remove_stopwords(text):\n",
    "    words = text.split()\n",
    "    cleaned_text = ' '.join([word for word in words if word.lower() not in stop_words])\n",
    "    return cleaned_text\n",
    "\n",
    "# Converter os valores das colunas para string antes de aplicar a função\n",
    "sample_booksrating['review/summary'] = sample_booksrating['review/summary'].astype(str).apply(remove_stopwords)\n",
    "sample_booksrating['review/text'] = sample_booksrating['review/text'].astype(str).apply(remove_stopwords)\n",
    "\n",
    "print(sample_booksrating)"
   ]
  },
  {
   "cell_type": "code",
   "execution_count": 120,
   "metadata": {},
   "outputs": [
    {
     "name": "stdout",
     "output_type": "stream",
     "text": [
      "  Id                   Title  Price      User_id  \\\n",
      "1     dr seuss american icon    NaN     atkudnsr   \n",
      "2     dr seuss american icon    NaN    auhuzrsvo   \n",
      "3     dr seuss american icon    NaN     amvuwtqh   \n",
      "4     dr seuss american icon    NaN    axxupkfmr   \n",
      "5     dr seuss american icon    NaN  afnonfudbuk   \n",
      "\n",
      "                       profileName review/helpfulness  review/score  \\\n",
      "1                    kevin killian                              5.0   \n",
      "2                     john granger                              5.0   \n",
      "3  roy e perry amateur philosopher                              4.0   \n",
      "4      d h richards ninthwavestore                              4.0   \n",
      "5                           malvin                              4.0   \n",
      "\n",
      "   review/time                                 review/summary  \\\n",
      "1   1095724800                                 really enjoyed   \n",
      "2   1078790400        essential every personal public library   \n",
      "3   1090713600  phlip nel gives silly seuss serious treatment   \n",
      "4   1107993600                         good academic overview   \n",
      "5   1127174400         one americas greatest creative talents   \n",
      "\n",
      "                                         review/text  \n",
      "1  dont care much seuss reading philip nels book ...  \n",
      "2  people become books read child father man seus...  \n",
      "3  theodore seuss geisel aka quotdr seussquot one...  \n",
      "4  philip nel seuss american iconthis basically a...  \n",
      "5  seuss american icon philip nel thoughtful deco...  \n"
     ]
    }
   ],
   "source": [
    "# Remove words that are shorter than or equal to 2 characters\n",
    "# Função para remover palavras curtas\n",
    "def remove_short_words(text):\n",
    "\treturn ' '.join([word for word in text.split() if len(word) > 2])\n",
    "\n",
    "# Aplicar a função de remoção de palavras curtas às colunas\n",
    "sample_booksrating['review/summary'] = sample_booksrating['review/summary'].apply(remove_short_words)\n",
    "sample_booksrating['review/text'] = sample_booksrating['review/text'].apply(remove_short_words)\n",
    "\n",
    "print(sample_booksrating.head())"
   ]
  },
  {
   "cell_type": "markdown",
   "metadata": {},
   "source": [
    "# salvar amostras num csv"
   ]
  },
  {
   "cell_type": "code",
   "execution_count": 140,
   "metadata": {},
   "outputs": [
    {
     "name": "stdout",
     "output_type": "stream",
     "text": [
      "c:\\PAC\n"
     ]
    }
   ],
   "source": [
    "\n",
    "#verificar diretório de trabalho\n",
    "print(os.getcwd())"
   ]
  },
  {
   "cell_type": "code",
   "execution_count": 141,
   "metadata": {},
   "outputs": [],
   "source": [
    "sample_booksdata.to_csv('sample_booksdata.csv', index=False)\n",
    "sample_booksrating.to_csv('sample_booksrating.csv', index=False)"
   ]
  }
 ],
 "metadata": {
  "kernelspec": {
   "display_name": "PACproj",
   "language": "python",
   "name": "python3"
  },
  "language_info": {
   "codemirror_mode": {
    "name": "ipython",
    "version": 3
   },
   "file_extension": ".py",
   "mimetype": "text/x-python",
   "name": "python",
   "nbconvert_exporter": "python",
   "pygments_lexer": "ipython3",
   "version": "3.10.16"
  }
 },
 "nbformat": 4,
 "nbformat_minor": 2
}
